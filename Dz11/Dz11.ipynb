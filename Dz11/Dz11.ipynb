{
  "cells": [
    {
      "cell_type": "markdown",
      "metadata": {
        "id": "W9BUzxNkelOs"
      },
      "source": [
        "# Домашнее задание\n",
        "\n",
        "Проанализировать датасет по цветам ириса:\n",
        "\n",
        "\n",
        "*   Сколько в нем строк и столбцов?\n",
        "*   Сколько сортов ириса?\n",
        "*   Есть ли пустые значения?\n",
        "*   Максимальное значение **sepal_width**.\n",
        "*   Минимальное значение **sepal_length**.\n",
        "*   Среднее значение **petal_width**.\n",
        "*   Вывести общую таблицу описательной статистике.\n",
        "\n",
        "Выполненное задание следует загрузить на ***платформу***"
      ]
    },
    {
      "cell_type": "markdown",
      "metadata": {
        "id": "XlpmEmtbe0p5"
      },
      "source": [
        "**sepal_length** - Длина чашелистика цветка\n",
        "\n",
        "**sepal_width** - Ширина чашелистика цветка\n",
        "\n",
        "**petal_length** - Длина лепестка\n",
        "\n",
        "**petal_width** - Ширина лепестка\n",
        "\n",
        "**species** - Сорт цветка"
      ]
    },
    {
      "cell_type": "code",
      "execution_count": 2,
      "metadata": {
        "colab": {
          "base_uri": "https://localhost:8080/",
          "height": 206
        },
        "id": "CYQqATehes02",
        "outputId": "4be63f33-41bd-498c-be7d-32098066e84d"
      },
      "outputs": [
        {
          "ename": "ModuleNotFoundError",
          "evalue": "No module named 'seaborn'",
          "output_type": "error",
          "traceback": [
            "\u001b[1;31m---------------------------------------------------------------------------\u001b[0m",
            "\u001b[1;31mModuleNotFoundError\u001b[0m                       Traceback (most recent call last)",
            "Cell \u001b[1;32mIn [2], line 2\u001b[0m\n\u001b[0;32m      1\u001b[0m \u001b[39m# Стартовый код\u001b[39;00m\n\u001b[1;32m----> 2\u001b[0m \u001b[39mimport\u001b[39;00m \u001b[39mseaborn\u001b[39;00m \u001b[39mas\u001b[39;00m \u001b[39msns\u001b[39;00m\n\u001b[0;32m      4\u001b[0m df \u001b[39m=\u001b[39m sns\u001b[39m.\u001b[39mload_dataset(\u001b[39m'\u001b[39m\u001b[39miris\u001b[39m\u001b[39m'\u001b[39m)\n\u001b[0;32m      5\u001b[0m df\u001b[39m.\u001b[39mhead()\n",
            "\u001b[1;31mModuleNotFoundError\u001b[0m: No module named 'seaborn'"
          ]
        }
      ],
      "source": [
        "# Стартовый код\n",
        "import seaborn as sns\n",
        "\n",
        "df = sns.load_dataset('iris')\n",
        "df.head()"
      ]
    },
    {
      "cell_type": "markdown",
      "metadata": {},
      "source": [
        "### 1. Сколько строк и столбцов?"
      ]
    },
    {
      "cell_type": "code",
      "execution_count": null,
      "metadata": {},
      "outputs": [],
      "source": [
        "df.shape"
      ]
    },
    {
      "cell_type": "markdown",
      "metadata": {},
      "source": [
        "### 2. Сколько сортов ириса?"
      ]
    },
    {
      "cell_type": "code",
      "execution_count": null,
      "metadata": {},
      "outputs": [],
      "source": [
        "sp = df['species'].unique()\n",
        "i=0\n",
        "for e in sp:\n",
        "    i+=1\n",
        "    print(f\"{i}. {e}\")\n",
        "print(f\"\\nЕсть {i} сорта ириса.\")"
      ]
    },
    {
      "cell_type": "markdown",
      "metadata": {},
      "source": [
        "### 3. Есть ли пустые значения?"
      ]
    },
    {
      "cell_type": "code",
      "execution_count": null,
      "metadata": {},
      "outputs": [],
      "source": [
        "print(df.isnull().sum())"
      ]
    },
    {
      "cell_type": "markdown",
      "metadata": {},
      "source": [
        "### 4. Максимальное значение sepal_width"
      ]
    },
    {
      "cell_type": "code",
      "execution_count": null,
      "metadata": {},
      "outputs": [],
      "source": [
        "print(f\"{df.loc[df['sepal_width'] == df['sepal_width'].max()]}\")\n",
        "print(f\"\\nМаксимальное значение sepal_width = {df['sepal_width'].max()}\")"
      ]
    },
    {
      "cell_type": "markdown",
      "metadata": {},
      "source": [
        "### 5. Минимальное значение sepal_length."
      ]
    },
    {
      "cell_type": "code",
      "execution_count": null,
      "metadata": {},
      "outputs": [],
      "source": [
        "print(f\"{df.loc[df['sepal_length'] == df['sepal_length'].min()]}\")\n",
        "print(f\"Минимальное значение sepal_length = {df['sepal_length'].min()}\")"
      ]
    },
    {
      "cell_type": "markdown",
      "metadata": {},
      "source": [
        "### 6. Среднее значение petal_width"
      ]
    },
    {
      "cell_type": "code",
      "execution_count": null,
      "metadata": {},
      "outputs": [],
      "source": [
        "print(f\"Среднее значение petal_width = {df['petal_width'].mean()}\")"
      ]
    },
    {
      "cell_type": "markdown",
      "metadata": {},
      "source": [
        "### 7. Вывести общую таблицу описательной статистике"
      ]
    },
    {
      "cell_type": "code",
      "execution_count": null,
      "metadata": {},
      "outputs": [],
      "source": [
        "df.head(150)"
      ]
    },
    {
      "cell_type": "markdown",
      "metadata": {},
      "source": [
        "### Цветы всех сортов с максимальными sepal_length."
      ]
    },
    {
      "cell_type": "code",
      "execution_count": null,
      "metadata": {},
      "outputs": [],
      "source": [
        "for e in sp:\n",
        "    temp = df[df['species'] == e]\n",
        "    print(f\"{e} = {temp['sepal_length'].max()}\")"
      ]
    }
  ],
  "metadata": {
    "colab": {
      "collapsed_sections": [],
      "name": "ДЗ к семинару 9",
      "provenance": []
    },
    "kernelspec": {
      "display_name": "Python 3.10.7 64-bit (microsoft store)",
      "language": "python",
      "name": "python3"
    },
    "language_info": {
      "codemirror_mode": {
        "name": "ipython",
        "version": 3
      },
      "file_extension": ".py",
      "mimetype": "text/x-python",
      "name": "python",
      "nbconvert_exporter": "python",
      "pygments_lexer": "ipython3",
      "version": "3.10.7"
    },
    "vscode": {
      "interpreter": {
        "hash": "e4dd14267cae23840dea038347bc16e5034e9d5e8854ee2a5f16737016150660"
      }
    }
  },
  "nbformat": 4,
  "nbformat_minor": 0
}
